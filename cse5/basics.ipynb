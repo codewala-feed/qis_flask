{
 "cells": [
  {
   "cell_type": "code",
   "execution_count": 13,
   "metadata": {},
   "outputs": [
    {
     "name": "stdout",
     "output_type": "stream",
     "text": [
      "<class 'int'>\n",
      "<class 'str'>\n",
      "=====================\n",
      "Before Conversion, 34 data type is <class 'str'>\n",
      "After Conversion, 34 data type is <class 'int'>\n",
      "=====================\n",
      "Before Conversion, 34.5 data type is <class 'str'>\n",
      "After Conversion, 34 data type is <class 'int'>\n"
     ]
    }
   ],
   "source": [
    "\"\"\" \n",
    "type conversions type functions(int, str, float, bool,\n",
    "                                   tuple, list,  set, dict\n",
    "                                )\n",
    "\"\"\"\n",
    "num = 20\n",
    "print(f\"Before Conversion, {num} data type is {type(num)}\") \n",
    "num = str(num)\n",
    "print(f\"After Conversion, {num} data type is {type(num)}\") \n",
    "\n",
    "print(\"=====================\")\n",
    "\n",
    "age = \"34\"\n",
    "print(f\"Before Conversion, {age} data type is {type(age)}\") \n",
    "\n",
    "age = int(age)\n",
    "print(f\"After Conversion, {age} data type is {type(age)}\") \n",
    "\n",
    "\n",
    "print(\"=====================\")\n",
    "\n",
    "age = \"34.5\"\n",
    "print(f\"Before Conversion, {age} data type is {type(age)}\") \n",
    "\n",
    "age = float(age)\n",
    "age = int(age)\n",
    "print(f\"After Conversion, {age} data type is {type(age)}\") \n"
   ]
  },
  {
   "cell_type": "code",
   "execution_count": 12,
   "metadata": {},
   "outputs": [
    {
     "name": "stdout",
     "output_type": "stream",
     "text": [
      "This is flask Training\n",
      "This is flask Training\n"
     ]
    }
   ],
   "source": [
    "# f strings\n",
    "course = \"flask\"\n",
    "print(\"This is\", course, \"Training\")\n",
    "print(f\"This is {course} Training\")"
   ]
  },
  {
   "cell_type": "code",
   "execution_count": 17,
   "metadata": {},
   "outputs": [
    {
     "name": "stdout",
     "output_type": "stream",
     "text": [
      "{'name': 'john', 'age': 30}\n"
     ]
    }
   ],
   "source": [
    "database = {}\n",
    "database[\"name\"] = \"john\"\n",
    "database[\"age\"] = 30\n",
    "\n",
    "print(database)"
   ]
  }
 ],
 "metadata": {
  "kernelspec": {
   "display_name": "Python 3",
   "language": "python",
   "name": "python3"
  },
  "language_info": {
   "codemirror_mode": {
    "name": "ipython",
    "version": 3
   },
   "file_extension": ".py",
   "mimetype": "text/x-python",
   "name": "python",
   "nbconvert_exporter": "python",
   "pygments_lexer": "ipython3",
   "version": "3.12.4"
  }
 },
 "nbformat": 4,
 "nbformat_minor": 2
}
