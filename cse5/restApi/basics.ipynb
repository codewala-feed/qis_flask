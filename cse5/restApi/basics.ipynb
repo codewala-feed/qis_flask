{
 "cells": [
  {
   "cell_type": "code",
   "execution_count": 10,
   "metadata": {},
   "outputs": [
    {
     "name": "stdout",
     "output_type": "stream",
     "text": [
      "True\n",
      "True\n"
     ]
    }
   ],
   "source": [
    "details = {\n",
    "\t\"userId\":1000,\n",
    "\t\"data\":{\"name\":\"stefan\", \"age\":23}\n",
    "}\n",
    "# print(details)\n",
    "\n",
    "print(\"data\" in details)\n",
    "print(\"name\" not in details)\n",
    "print(\"name\" in details[\"data\"])\n",
    "\n",
    "# print(details[\"data\"])\n",
    "# # print(details[\"place\"])\n",
    "# print(details.get(\"place\"))"
   ]
  }
 ],
 "metadata": {
  "kernelspec": {
   "display_name": "Python 3",
   "language": "python",
   "name": "python3"
  },
  "language_info": {
   "codemirror_mode": {
    "name": "ipython",
    "version": 3
   },
   "file_extension": ".py",
   "mimetype": "text/x-python",
   "name": "python",
   "nbconvert_exporter": "python",
   "pygments_lexer": "ipython3",
   "version": "3.12.4"
  }
 },
 "nbformat": 4,
 "nbformat_minor": 2
}
