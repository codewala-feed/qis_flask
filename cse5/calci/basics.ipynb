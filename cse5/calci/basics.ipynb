{
 "cells": [
  {
   "cell_type": "code",
   "execution_count": 8,
   "metadata": {},
   "outputs": [
    {
     "name": "stdout",
     "output_type": "stream",
     "text": [
      "Tony#123\n",
      "Valid User\n"
     ]
    }
   ],
   "source": [
    "valid_users = {\n",
    "\t\t \"steeve@gmail.com\":\"Steeve#123\",\n",
    "\t\t \"tony@gmail.com\":\"Tony#123\"\n",
    "\t\t}\n",
    "email = \"tony@gmail.com\"\n",
    "password = \"Tony#123\"\n",
    "\n",
    "# # to get password\n",
    "# print(valid_users[email])\n",
    "if email in valid_users and password == valid_users[email]:\n",
    "\tprint(\"Valid User\")\n",
    "else:\n",
    "\tprint(\"Invalid User\")"
   ]
  },
  {
   "cell_type": "code",
   "execution_count": null,
   "metadata": {},
   "outputs": [],
   "source": []
  }
 ],
 "metadata": {
  "kernelspec": {
   "display_name": "Python 3",
   "language": "python",
   "name": "python3"
  },
  "language_info": {
   "codemirror_mode": {
    "name": "ipython",
    "version": 3
   },
   "file_extension": ".py",
   "mimetype": "text/x-python",
   "name": "python",
   "nbconvert_exporter": "python",
   "pygments_lexer": "ipython3",
   "version": "3.12.4"
  }
 },
 "nbformat": 4,
 "nbformat_minor": 2
}
