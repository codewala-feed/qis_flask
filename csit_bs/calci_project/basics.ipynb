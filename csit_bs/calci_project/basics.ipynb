{
 "cells": [
  {
   "cell_type": "code",
   "execution_count": 13,
   "metadata": {},
   "outputs": [
    {
     "name": "stdout",
     "output_type": "stream",
     "text": [
      "True\n",
      "False\n",
      "Steeve#123\n",
      "False\n"
     ]
    }
   ],
   "source": [
    "details = {\n",
    "\t\"tony@gmail.com\":\"Tony#123\",\n",
    "\t\"steeve@gmail.com\":\"Steeve#123\"\n",
    "\t\n",
    "\t}\n",
    "\n",
    "email = \"steeve@gmail.com\"\n",
    "password = \"Tony#123\"\n",
    "print(email in details)\n",
    "print(password in details)\n",
    "print(details[email])\n",
    "print((email in details) and (details[email] == password))"
   ]
  }
 ],
 "metadata": {
  "kernelspec": {
   "display_name": "Python 3",
   "language": "python",
   "name": "python3"
  },
  "language_info": {
   "codemirror_mode": {
    "name": "ipython",
    "version": 3
   },
   "file_extension": ".py",
   "mimetype": "text/x-python",
   "name": "python",
   "nbconvert_exporter": "python",
   "pygments_lexer": "ipython3",
   "version": "3.12.4"
  }
 },
 "nbformat": 4,
 "nbformat_minor": 2
}
