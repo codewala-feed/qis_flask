{
 "cells": [
  {
   "cell_type": "code",
   "execution_count": 12,
   "metadata": {},
   "outputs": [
    {
     "name": "stdout",
     "output_type": "stream",
     "text": [
      "False\n",
      "True\n",
      "False\n",
      "True\n"
     ]
    }
   ],
   "source": [
    "details = {\n",
    "\t\"user_id\":1000, \n",
    "\t\"data\":{\"name\":\"stefan\", \"age\":23}\n",
    "\t}\n",
    "# print(details[\"data\"][\"age\"])\n",
    "# print(details[\"place\"])\n",
    "# print(details.get(\"place\"))\n",
    "print(\"place\" in details)\n",
    "print(\"data\" in details)\n",
    "print(\"name\" in details)\n",
    "print(\"name\" in details[\"data\"])\n",
    "\n",
    "# print(\"name\" not in details)\n"
   ]
  }
 ],
 "metadata": {
  "kernelspec": {
   "display_name": "Python 3",
   "language": "python",
   "name": "python3"
  },
  "language_info": {
   "codemirror_mode": {
    "name": "ipython",
    "version": 3
   },
   "file_extension": ".py",
   "mimetype": "text/x-python",
   "name": "python",
   "nbconvert_exporter": "python",
   "pygments_lexer": "ipython3",
   "version": "3.12.4"
  }
 },
 "nbformat": 4,
 "nbformat_minor": 2
}
