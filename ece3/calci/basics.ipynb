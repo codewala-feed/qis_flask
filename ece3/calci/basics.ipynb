{
 "cells": [
  {
   "cell_type": "code",
   "execution_count": 13,
   "metadata": {},
   "outputs": [
    {
     "name": "stdout",
     "output_type": "stream",
     "text": [
      "1000\n",
      "None\n",
      "BUSINESS LOGIC\n"
     ]
    }
   ],
   "source": [
    "details = {\n",
    "\t\"user_id\":1000, \n",
    "\t\"data\":{\"name\":\"stefan\", \"age\":23}\n",
    "}\n",
    "# print(details[\"data\"][\"age\"])\n",
    "# print(\"user_id\" in details)\n",
    "# print(1000 in details)\n",
    "# print(\"name\" in details[\"data\"])\n",
    "\n",
    "print(details.get(\"user_id\"))\n",
    "print(details.get(\"place\"))\n",
    "print(\"BUSINESS LOGIC\")"
   ]
  },
  {
   "cell_type": "code",
   "execution_count": 21,
   "metadata": {},
   "outputs": [
    {
     "name": "stdout",
     "output_type": "stream",
     "text": [
      "False\n"
     ]
    }
   ],
   "source": [
    "valid_users = {\n",
    "    \"steeve@gmail.com\":\"Steeve#123\",\n",
    "    \"tony@gmail.com\":\"Tony#123\"\n",
    "    }\n",
    "\n",
    "email = \"steeve@gmail.com\"\n",
    "password = \"Steeve#123\"\n",
    "\n",
    "print(email in valid_users and password == valid_users[email])"
   ]
  }
 ],
 "metadata": {
  "kernelspec": {
   "display_name": "Python 3",
   "language": "python",
   "name": "python3"
  },
  "language_info": {
   "codemirror_mode": {
    "name": "ipython",
    "version": 3
   },
   "file_extension": ".py",
   "mimetype": "text/x-python",
   "name": "python",
   "nbconvert_exporter": "python",
   "pygments_lexer": "ipython3",
   "version": "3.12.4"
  }
 },
 "nbformat": 4,
 "nbformat_minor": 2
}
